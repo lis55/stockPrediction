{
  "nbformat": 4,
  "nbformat_minor": 0,
  "metadata": {
    "colab": {
      "name": "stockPrediction.ipynb",
      "provenance": [],
      "authorship_tag": "ABX9TyPzd0OSfIeyCQrcmfYj6QJr",
      "include_colab_link": true
    },
    "kernelspec": {
      "name": "python3",
      "display_name": "Python 3"
    },
    "language_info": {
      "name": "python"
    },
    "accelerator": "GPU"
  },
  "cells": [
    {
      "cell_type": "markdown",
      "metadata": {
        "id": "view-in-github",
        "colab_type": "text"
      },
      "source": [
        "<a href=\"https://colab.research.google.com/github/lis55/stockPrediction/blob/main/stockPrediction.ipynb\" target=\"_parent\"><img src=\"https://colab.research.google.com/assets/colab-badge.svg\" alt=\"Open In Colab\"/></a>"
      ]
    },
    {
      "cell_type": "code",
      "metadata": {
        "id": "E001-Z7WWZ5v",
        "colab": {
          "base_uri": "https://localhost:8080/",
          "height": 423
        },
        "outputId": "73f4fa10-9fe4-4553-c91b-7a063253484a"
      },
      "source": [
        "import pandas as pd\n",
        "data = pd.read_csv('stock_prices.csv')\n",
        "data"
      ],
      "execution_count": 3,
      "outputs": [
        {
          "output_type": "execute_result",
          "data": {
            "text/html": [
              "<div>\n",
              "<style scoped>\n",
              "    .dataframe tbody tr th:only-of-type {\n",
              "        vertical-align: middle;\n",
              "    }\n",
              "\n",
              "    .dataframe tbody tr th {\n",
              "        vertical-align: top;\n",
              "    }\n",
              "\n",
              "    .dataframe thead th {\n",
              "        text-align: right;\n",
              "    }\n",
              "</style>\n",
              "<table border=\"1\" class=\"dataframe\">\n",
              "  <thead>\n",
              "    <tr style=\"text-align: right;\">\n",
              "      <th></th>\n",
              "      <th>Date</th>\n",
              "      <th>Open</th>\n",
              "      <th>High</th>\n",
              "      <th>Low</th>\n",
              "      <th>Close</th>\n",
              "      <th>Volume</th>\n",
              "    </tr>\n",
              "  </thead>\n",
              "  <tbody>\n",
              "    <tr>\n",
              "      <th>0</th>\n",
              "      <td>2013-01-02</td>\n",
              "      <td>7.000000</td>\n",
              "      <td>7.090000</td>\n",
              "      <td>6.942000</td>\n",
              "      <td>7.072000</td>\n",
              "      <td>5974000</td>\n",
              "    </tr>\n",
              "    <tr>\n",
              "      <th>1</th>\n",
              "      <td>2013-01-03</td>\n",
              "      <td>7.036000</td>\n",
              "      <td>7.090000</td>\n",
              "      <td>6.950000</td>\n",
              "      <td>6.954000</td>\n",
              "      <td>3710000</td>\n",
              "    </tr>\n",
              "    <tr>\n",
              "      <th>2</th>\n",
              "      <td>2013-01-04</td>\n",
              "      <td>6.960000</td>\n",
              "      <td>6.960000</td>\n",
              "      <td>6.784000</td>\n",
              "      <td>6.880000</td>\n",
              "      <td>3370000</td>\n",
              "    </tr>\n",
              "    <tr>\n",
              "      <th>3</th>\n",
              "      <td>2013-01-07</td>\n",
              "      <td>6.960000</td>\n",
              "      <td>6.960000</td>\n",
              "      <td>6.780000</td>\n",
              "      <td>6.868000</td>\n",
              "      <td>2210000</td>\n",
              "    </tr>\n",
              "    <tr>\n",
              "      <th>4</th>\n",
              "      <td>2013-01-08</td>\n",
              "      <td>6.900000</td>\n",
              "      <td>6.900000</td>\n",
              "      <td>6.622000</td>\n",
              "      <td>6.736000</td>\n",
              "      <td>6420000</td>\n",
              "    </tr>\n",
              "    <tr>\n",
              "      <th>...</th>\n",
              "      <td>...</td>\n",
              "      <td>...</td>\n",
              "      <td>...</td>\n",
              "      <td>...</td>\n",
              "      <td>...</td>\n",
              "      <td>...</td>\n",
              "    </tr>\n",
              "    <tr>\n",
              "      <th>2133</th>\n",
              "      <td>2021-06-23</td>\n",
              "      <td>632.000000</td>\n",
              "      <td>657.200012</td>\n",
              "      <td>630.039978</td>\n",
              "      <td>656.570007</td>\n",
              "      <td>31099200</td>\n",
              "    </tr>\n",
              "    <tr>\n",
              "      <th>2134</th>\n",
              "      <td>2021-06-24</td>\n",
              "      <td>674.989990</td>\n",
              "      <td>697.619995</td>\n",
              "      <td>667.609985</td>\n",
              "      <td>679.820007</td>\n",
              "      <td>45982400</td>\n",
              "    </tr>\n",
              "    <tr>\n",
              "      <th>2135</th>\n",
              "      <td>2021-06-25</td>\n",
              "      <td>689.580017</td>\n",
              "      <td>693.809998</td>\n",
              "      <td>668.700012</td>\n",
              "      <td>671.869995</td>\n",
              "      <td>32496700</td>\n",
              "    </tr>\n",
              "    <tr>\n",
              "      <th>2136</th>\n",
              "      <td>2021-06-28</td>\n",
              "      <td>671.640015</td>\n",
              "      <td>694.700012</td>\n",
              "      <td>670.320007</td>\n",
              "      <td>688.719971</td>\n",
              "      <td>21628200</td>\n",
              "    </tr>\n",
              "    <tr>\n",
              "      <th>2137</th>\n",
              "      <td>2021-06-29</td>\n",
              "      <td>684.650024</td>\n",
              "      <td>687.510010</td>\n",
              "      <td>675.890015</td>\n",
              "      <td>680.760010</td>\n",
              "      <td>17381300</td>\n",
              "    </tr>\n",
              "  </tbody>\n",
              "</table>\n",
              "<p>2138 rows × 6 columns</p>\n",
              "</div>"
            ],
            "text/plain": [
              "            Date        Open        High         Low       Close    Volume\n",
              "0     2013-01-02    7.000000    7.090000    6.942000    7.072000   5974000\n",
              "1     2013-01-03    7.036000    7.090000    6.950000    6.954000   3710000\n",
              "2     2013-01-04    6.960000    6.960000    6.784000    6.880000   3370000\n",
              "3     2013-01-07    6.960000    6.960000    6.780000    6.868000   2210000\n",
              "4     2013-01-08    6.900000    6.900000    6.622000    6.736000   6420000\n",
              "...          ...         ...         ...         ...         ...       ...\n",
              "2133  2021-06-23  632.000000  657.200012  630.039978  656.570007  31099200\n",
              "2134  2021-06-24  674.989990  697.619995  667.609985  679.820007  45982400\n",
              "2135  2021-06-25  689.580017  693.809998  668.700012  671.869995  32496700\n",
              "2136  2021-06-28  671.640015  694.700012  670.320007  688.719971  21628200\n",
              "2137  2021-06-29  684.650024  687.510010  675.890015  680.760010  17381300\n",
              "\n",
              "[2138 rows x 6 columns]"
            ]
          },
          "metadata": {
            "tags": []
          },
          "execution_count": 3
        }
      ]
    },
    {
      "cell_type": "markdown",
      "metadata": {
        "id": "vqqxp2DPGsuQ"
      },
      "source": [
        "### We will focus on predicting the \"close\" variable"
      ]
    },
    {
      "cell_type": "code",
      "metadata": {
        "id": "PjenRwCwGnZA"
      },
      "source": [
        "data_array = data[['Open','High','Low','Close','Volume']]\n",
        "close = data_array[]\n"
      ],
      "execution_count": 14,
      "outputs": []
    }
  ]
}